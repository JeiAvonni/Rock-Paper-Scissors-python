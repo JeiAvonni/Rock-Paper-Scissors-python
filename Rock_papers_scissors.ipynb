{
 "cells": [
  {
   "cell_type": "code",
   "execution_count": 19,
   "id": "a391a363-29f0-4eed-9f88-c46727f1fabc",
   "metadata": {},
   "outputs": [
    {
     "name": "stdin",
     "output_type": "stream",
     "text": [
      " What is your name? jeiavonni\n"
     ]
    },
    {
     "name": "stdout",
     "output_type": "stream",
     "text": [
      "Hello jeiavonni lets play rock, paper, scissors!\n"
     ]
    },
    {
     "name": "stdin",
     "output_type": "stream",
     "text": [
      "What's your choice? 'r' for rock, 'p' for paper, 's' for scissors 'q' to quit s\n"
     ]
    },
    {
     "data": {
      "text/plain": [
       "'You and the computer have both been chosen s. Its a tie!'"
      ]
     },
     "execution_count": 19,
     "metadata": {},
     "output_type": "execute_result"
    }
   ],
   "source": [
    "import random\n",
    "\n",
    "def play():\n",
    "    user = input(\"What's your choice? 'r' for rock, 'p' for paper, 's' for scissors 'q' to quit\")\n",
    "    user = user.lower()\n",
    "    while True:\n",
    "        if user == \"q\":\n",
    "            break\n",
    "        elif user != \"q\":\n",
    "            computer = random.choice(['r', 'p', 's'])\n",
    "        \n",
    "            if user == computer:\n",
    "                return \"You and the computer have both been chosen {}. Its a tie!\".format(computer)\n",
    "               \n",
    "            # r > s, s > p, p > r\n",
    "            if win(user, computer):\n",
    "                return \"You have chosen {} and the computer has chosen {}. You won!\".format(user,computer)\n",
    "            else:\n",
    "                return \"You have chosen {} and computer has chosen {}. You lost :(\".format(user, computer)\n",
    "\n",
    "def win(player, opponent):\n",
    "    #  return true if the player beats the opponent\n",
    "    #  winning conditions: r > s, s > p, p > r\n",
    "    if (player == \"r\" and opponent == \"s\") or (player == \"s\" and opponent == \"p\") or ( player == \"p\" and opponent == \"r\"):\n",
    "        return true\n",
    "    return false\n",
    "\n",
    "username = input(\" What is your name?\")\n",
    "print (\"Hello {} lets play rock, paper, scissors!\".format(username))\n",
    "play()\n"
   ]
  },
  {
   "cell_type": "code",
   "execution_count": null,
   "id": "24620599-531d-46b5-9c68-ddbd51bc426e",
   "metadata": {},
   "outputs": [],
   "source": [
    "# get user input\n",
    "# get computer input\n",
    "# build a funtion that determines the winner\n",
    "# declare the winner"
   ]
  }
 ],
 "metadata": {
  "kernelspec": {
   "display_name": "Python 3 (ipykernel)",
   "language": "python",
   "name": "python3"
  },
  "language_info": {
   "codemirror_mode": {
    "name": "ipython",
    "version": 3
   },
   "file_extension": ".py",
   "mimetype": "text/x-python",
   "name": "python",
   "nbconvert_exporter": "python",
   "pygments_lexer": "ipython3",
   "version": "3.12.1"
  }
 },
 "nbformat": 4,
 "nbformat_minor": 5
}
